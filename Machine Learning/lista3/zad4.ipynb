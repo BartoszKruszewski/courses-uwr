{
 "cells": [
  {
   "cell_type": "code",
   "execution_count": 7,
   "metadata": {},
   "outputs": [],
   "source": [
    "import numpy as np\n",
    "\n",
    "def sigmoid(x):\n",
    "    return 1 / (1 + np.exp(-x))\n",
    "\n",
    "def sigmoid_derivative(x):\n",
    "    return x * (1 - x)\n",
    "\n",
    "w_13, w_23, b_3 = 1.5, -2.5, 0.3\n",
    "w_14, w_24, b_4 = 1.0, -2.5, 0.2\n",
    "w_35, w_45, b_5 = 4.0, 3.0, -0.8\n",
    "\n",
    "X = np.array([[1, 2], [2, 0]])\n",
    "y = np.array([-1, 6])\n",
    "\n",
    "learning_rate = 0.01"
   ]
  },
  {
   "cell_type": "code",
   "execution_count": 8,
   "metadata": {},
   "outputs": [
    {
     "name": "stdout",
     "output_type": "stream",
     "text": [
      "[-0.5776933   5.75846378]\n"
     ]
    }
   ],
   "source": [
    "# forward\n",
    "z3 = w_13 * X[:, 0] + w_23 * X[:, 1] + b_3\n",
    "a3 = sigmoid(z3)\n",
    "z4 = w_14 * X[:, 0] + w_24 * X[:, 1] + b_4\n",
    "a4 = sigmoid(z4)\n",
    "\n",
    "z5 = w_35 * a3 + w_45 * a4 + b_5\n",
    "print(z5)"
   ]
  },
  {
   "cell_type": "code",
   "execution_count": 9,
   "metadata": {},
   "outputs": [],
   "source": [
    "# Błąd i gradienty dla wag i biasów warstwy wyjściowej\n",
    "delta_z5 = z5 - y\n",
    "grad_w_35 = delta_z5 * a3\n",
    "grad_w_45 = delta_z5 * a4\n",
    "grad_b_5 = delta_z5"
   ]
  },
  {
   "cell_type": "code",
   "execution_count": 10,
   "metadata": {},
   "outputs": [],
   "source": [
    "# Błędy i gradienty w warstwie ukrytej\n",
    "delta_a3 = delta_z5 * w_35\n",
    "delta_a4 = delta_z5 * w_45\n",
    "delta_z3 = delta_a3 * sigmoid_derivative(a3)\n",
    "delta_z4 = delta_a4 * sigmoid_derivative(a4)\n",
    "\n",
    "grad_w_13 = delta_z3 * X[:, 0]\n",
    "grad_w_23 = delta_z3 * X[:, 1]\n",
    "grad_b_3 = delta_z3\n",
    "\n",
    "grad_w_14 = delta_z4 * X[:, 0]\n",
    "grad_w_24 = delta_z4 * X[:, 1]\n",
    "grad_b_4 = delta_z4"
   ]
  },
  {
   "cell_type": "code",
   "execution_count": 11,
   "metadata": {},
   "outputs": [
    {
     "name": "stdout",
     "output_type": "stream",
     "text": [
      "1.5000272030815063 -2.501271371865018 0.29969575857449865\n",
      "1.0010302496106216 -2.500542304670437 0.2003795486377015\n",
      "4.002164045463896 3.0020820226051237 -0.8018077047954585\n"
     ]
    }
   ],
   "source": [
    "# Aktualizacja wag\n",
    "w_13 -= learning_rate * grad_w_13.sum()\n",
    "w_23 -= learning_rate * grad_w_23.sum()\n",
    "b_3 -= learning_rate * grad_b_3.sum()\n",
    "\n",
    "w_14 -= learning_rate * grad_w_14.sum()\n",
    "w_24 -= learning_rate * grad_w_24.sum()\n",
    "b_4 -= learning_rate * grad_b_4.sum()\n",
    "\n",
    "w_35 -= learning_rate * grad_w_35.sum()\n",
    "w_45 -= learning_rate * grad_w_45.sum()\n",
    "b_5 -= learning_rate * grad_b_5.sum()\n",
    "\n",
    "print(w_13, w_23, b_3)\n",
    "print(w_14, w_24, b_4)\n",
    "print(w_35, w_45, b_5)"
   ]
  },
  {
   "cell_type": "code",
   "execution_count": 12,
   "metadata": {},
   "outputs": [
    {
     "name": "stdout",
     "output_type": "stream",
     "text": [
      "[-0.57977392  5.76124034]\n"
     ]
    }
   ],
   "source": [
    "# ponowny forward\n",
    "z3 = w_13 * X[:, 0] + w_23 * X[:, 1] + b_3\n",
    "a3 = sigmoid(z3)\n",
    "z4 = w_14 * X[:, 0] + w_24 * X[:, 1] + b_4\n",
    "a4 = sigmoid(z4)\n",
    "\n",
    "z5 = w_35 * a3 + w_45 * a4 + b_5\n",
    "print(z5)"
   ]
  }
 ],
 "metadata": {
  "kernelspec": {
   "display_name": "venv",
   "language": "python",
   "name": "python3"
  },
  "language_info": {
   "codemirror_mode": {
    "name": "ipython",
    "version": 3
   },
   "file_extension": ".py",
   "mimetype": "text/x-python",
   "name": "python",
   "nbconvert_exporter": "python",
   "pygments_lexer": "ipython3",
   "version": "3.12.8"
  }
 },
 "nbformat": 4,
 "nbformat_minor": 2
}
