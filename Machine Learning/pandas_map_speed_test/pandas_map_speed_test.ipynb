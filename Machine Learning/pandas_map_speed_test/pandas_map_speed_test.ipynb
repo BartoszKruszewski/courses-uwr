{
 "cells": [
  {
   "cell_type": "code",
   "execution_count": null,
   "metadata": {},
   "outputs": [],
   "source": [
    "#instalacja i import pandas\n",
    "!pip3 install pandas\n",
    "import pandas as pd"
   ]
  },
  {
   "cell_type": "code",
   "execution_count": null,
   "metadata": {},
   "outputs": [],
   "source": [
    "# wczytanie .csv z danymi\n",
    "data = pd.read_csv(\"spotify_most_streamed_2024.csv\", encoding='ISO-8859-1')\n",
    "data.head()"
   ]
  },
  {
   "cell_type": "code",
   "execution_count": 4,
   "metadata": {},
   "outputs": [],
   "source": [
    "# usunięcie kolumn, gdzie liczba wyświetleń jest pusta\n",
    "data = data.dropna(subset=['Spotify Streams'])"
   ]
  },
  {
   "cell_type": "code",
   "execution_count": 5,
   "metadata": {},
   "outputs": [],
   "source": [
    "# zamiana typu danych dla kolumny z wyświetleniami z object na int\n",
    "data['Spotify Streams'] = data['Spotify Streams'].str.replace(',', '').astype(int)"
   ]
  },
  {
   "cell_type": "code",
   "execution_count": 6,
   "metadata": {},
   "outputs": [],
   "source": [
    "# usuwanie podwójnych (w sensie mających taką samą nazwę piosenki) rekordów, zostawiając te o większej liczbie wyświetleń\n",
    "data = data.loc[data.groupby('Track')['Spotify Streams'].idxmax()]"
   ]
  },
  {
   "cell_type": "code",
   "execution_count": null,
   "metadata": {},
   "outputs": [],
   "source": [
    "# wybranie 10 rekordów z największą liczbą wyświetleń\n",
    "top_10_streams = data.nlargest(10, 'Spotify Streams')\n",
    "top_10_streams"
   ]
  },
  {
   "cell_type": "code",
   "execution_count": 8,
   "metadata": {},
   "outputs": [],
   "source": [
    "# Dodanie specjalnie formatowanej kolumny dla lepszej czytelności liczby wyświetleń\n",
    "top_10_streams['Spotify Streams (formated)'] = top_10_streams['Spotify Streams'].apply(lambda x: f'{x:,}')"
   ]
  },
  {
   "cell_type": "code",
   "execution_count": null,
   "metadata": {},
   "outputs": [],
   "source": [
    "# Wyświetlenie rekordów z 10 najczęściej słuchanymi piosenkami, zostawiając tylko te ciekawe kolumny\n",
    "top_10_streams[['Track', 'Artist', 'Spotify Streams (formated)']]"
   ]
  }
 ],
 "metadata": {
  "kernelspec": {
   "display_name": "Python 3",
   "language": "python",
   "name": "python3"
  },
  "language_info": {
   "codemirror_mode": {
    "name": "ipython",
    "version": 3
   },
   "file_extension": ".py",
   "mimetype": "text/x-python",
   "name": "python",
   "nbconvert_exporter": "python",
   "pygments_lexer": "ipython3",
   "version": "3.9.6"
  }
 },
 "nbformat": 4,
 "nbformat_minor": 2
}
